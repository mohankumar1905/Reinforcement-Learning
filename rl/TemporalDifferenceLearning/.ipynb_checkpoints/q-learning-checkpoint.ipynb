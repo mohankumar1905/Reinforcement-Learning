{
 "cells": [
  {
   "cell_type": "code",
   "execution_count": 1,
   "metadata": {},
   "outputs": [],
   "source": [
    "import sys\n",
    "sys.path.append(\"C:\\\\Users\\\\mohan\\\\Documents\\\\GitHub\\\\Reinforcement-Learning\\\\rl\\\\DynamicProgramming\")"
   ]
  },
  {
   "cell_type": "code",
   "execution_count": 2,
   "metadata": {},
   "outputs": [],
   "source": [
    "sys.path.append(\"C:\\\\Users\\\\mohan\\\\Documents\\\\GitHub\\\\Reinforcement-Learning\\\\rl\\\\MonteCarlo\")"
   ]
  },
  {
   "cell_type": "code",
   "execution_count": 3,
   "metadata": {},
   "outputs": [],
   "source": [
    "import numpy as np\n",
    "from matplotlib import pyplot as plt\n",
    "from grid_world import standard_grid, negative_grid\n",
    "from iterative_policy_evaluation import print_values, print_policy\n",
    "from monte_carlo_exploring_starts import max_dict\n",
    "from td0_prediction import random_action"
   ]
  },
  {
   "cell_type": "code",
   "execution_count": 4,
   "metadata": {},
   "outputs": [],
   "source": [
    "ALPHA = 0.1\n",
    "GAMMA = 0.9\n",
    "ALL_POSSIBLE_ACTION = {'U', 'D', 'L', 'R'}"
   ]
  },
  {
   "cell_type": "code",
   "execution_count": 5,
   "metadata": {},
   "outputs": [],
   "source": [
    "def main():\n",
    "    #using the standard grid again (0 for every step) so that we can compare to iterative policy evaluation.\n",
    "    grid = negative_grid()\n",
    "    \n",
    "    #print rewards\n",
    "    print_values(grid.rewards, grid)\n",
    "    \n",
    "\n",
    "    #Initialize V(s)\n",
    "    Q = {}\n",
    "    states = grid.all_states()\n",
    "    for s in states:\n",
    "        Q[s] = {}\n",
    "        for a in ALL_POSSIBLE_ACTION:\n",
    "            Q[s][a] = 0\n",
    "            \n",
    "            \n",
    "    #lets keep track of how many times Q[s] has been updated.\n",
    "    update_counts = {} #what portion of time we spend in each state. - for debugging\n",
    "    update_counts_sa = {} #this is for adaptive learning rate\n",
    "    for s in states:\n",
    "        update_counts_sa[s] ={}\n",
    "        for a in ALL_POSSIBLE_ACTION:\n",
    "            update_counts_sa[s][a] = 1.0\n",
    "            \n",
    "    t = 1.0\n",
    "    deltas = []\n",
    "    for it in range(10000):\n",
    "        if it%100 == 0:\n",
    "            t += 10e-3\n",
    "        if it%2000 == 0:\n",
    "            print(it)\n",
    "        #instead of generating the episode we will play an episode within the loop.\n",
    "        s = (2, 0)\n",
    "        grid.set_state(s)\n",
    "\n",
    "        #The first (s, r) tuple is the state we start in and 0(since we don't get a reward for simply starting the game)\n",
    "        #the last (s, r) tuple is the terminal state and the final reward. the value of a terminal state by definition is 0, \n",
    "        #so we don't care about updating it.\n",
    "        a = max_dict(Q[s])[0]\n",
    "        biggest_change = 0\n",
    "        \n",
    "        while not grid.game_over():\n",
    "            a = random_action(a, eps=0.5/t)\n",
    "            r = grid.move(a)\n",
    "            s2 = grid.current_state()\n",
    "            #we need next action as well since Q(a, s) depends on Q(s', a'), If s2 not in policy then it is a terminal state\n",
    "            a2 = max_dict(Q[s2])[0]\n",
    "            \n",
    "            #we will update Q(s, a) as we experience the episode.\n",
    "            alpha = ALPHA/ update_counts_sa[s][a]\n",
    "            update_counts_sa[s][a] += 0.005 #updating the count only by a small amount\n",
    "            old_qsa = Q[s][a]\n",
    "            Q[s][a] = Q[s][a] + alpha * (r + (GAMMA * Q[s2][a2]) - Q[s][a])\n",
    "            biggest_change = max(biggest_change, np.abs(old_qsa - Q[s][a]))\n",
    "            \n",
    "            #we would like to know how often Q[s] has been updated\n",
    "            update_counts[s] = update_counts.get(s, 0) + 1\n",
    "            \n",
    "            s = s2\n",
    "            a = a2\n",
    "        deltas.append(biggest_change)\n",
    "    plt.plot(deltas)\n",
    "    plt.show()\n",
    "    \n",
    "    #Determine the policy Q* from V*\n",
    "    policy = {}\n",
    "    V = {}\n",
    "    for s in grid.actions.keys():\n",
    "        a, max_q = max_dict(Q[s])\n",
    "        policy[s] = a\n",
    "        V[s] = max_q\n",
    "\n",
    "        \n",
    "    #what portion of time we spend updating each part of q.\n",
    "    print (\"update counts:\")\n",
    "    total = np.sum(list(update_counts.values()))\n",
    "    for k, v in update_counts.items():\n",
    "        update_counts[k] = v/total\n",
    "    print_values(update_counts, grid)\n",
    "    \n",
    "    \n",
    "    print(\"values: \")\n",
    "    print_values(V, grid)\n",
    "    \n",
    "    print(\"policy: \")\n",
    "    print_policy(policy, grid)\n",
    "    "
   ]
  },
  {
   "cell_type": "code",
   "execution_count": 6,
   "metadata": {},
   "outputs": [
    {
     "name": "stdout",
     "output_type": "stream",
     "text": [
      "--------------------\n",
      " -0.1 -0.1 -0.1  1\n",
      "--------------------\n",
      " -0.1  0 -0.1 -1\n",
      "--------------------\n",
      " -0.1 -0.1 -0.1 -0.1\n",
      "0\n",
      "2000\n",
      "4000\n",
      "6000\n",
      "8000\n"
     ]
    },
    {
     "data": {
      "image/png": "[encoded data removed]",
      "text/plain": [
       "<Figure size 432x288 with 1 Axes>"
      ]
     },
     "metadata": {
      "needs_background": "light"
     },
     "output_type": "display_data"
    },
    {
     "name": "stdout",
     "output_type": "stream",
     "text": [
      "update counts:\n",
      "--------------------\n",
      "  0.18  0.18  0.18  0\n",
      "--------------------\n",
      "  0.18  0  0.03  0\n",
      "--------------------\n",
      "  0.19  0.02  0.02  0.0\n",
      "values: \n",
      "--------------------\n",
      "  0.62  0.8  1.0  0\n",
      "--------------------\n",
      "  0.46  0  0.8  0\n",
      "--------------------\n",
      "  0.31  0.46  0.62  0.46\n",
      "policy: \n",
      "--------------------\n",
      " R | R | R |   |\n",
      "--------------------\n",
      " U |   | U |   |\n",
      "--------------------\n",
      " U | R | U | L |\n"
     ]
    }
   ],
   "source": [
    "if __name__ == \"__main__\":\n",
    "    main()"
   ]
  },
  {
   "cell_type": "code",
   "execution_count": null,
   "metadata": {},
   "outputs": [],
   "source": []
  },
  {
   "cell_type": "code",
   "execution_count": null,
   "metadata": {},
   "outputs": [],
   "source": []
  }
 ],
 "metadata": {
  "kernelspec": {
   "display_name": "Python 3",
   "language": "python",
   "name": "python3"
  },
  "language_info": {
   "codemirror_mode": {
    "name": "ipython",
    "version": 3
   },
   "file_extension": ".py",
   "mimetype": "text/x-python",
   "name": "python",
   "nbconvert_exporter": "python",
   "pygments_lexer": "ipython3",
   "version": "3.6.10"
  }
 },
 "nbformat": 4,
 "nbformat_minor": 4
}
