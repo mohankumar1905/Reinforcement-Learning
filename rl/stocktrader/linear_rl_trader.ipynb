{
 "cells": [
  {
   "cell_type": "code",
   "execution_count": 1,
   "metadata": {},
   "outputs": [],
   "source": [
    "import numpy as np\n",
    "import pandas as pd\n",
    "from matplotlib import pyplot as plt"
   ]
  },
  {
   "cell_type": "code",
   "execution_count": 2,
   "metadata": {},
   "outputs": [],
   "source": [
    "from datetime import datetime\n",
    "import itertools\n",
    "import argparse\n",
    "import re\n",
    "import os\n",
    "import pickle"
   ]
  },
  {
   "cell_type": "code",
   "execution_count": 3,
   "metadata": {},
   "outputs": [],
   "source": [
    "from sklearn.preprocessing import StandardScaler"
   ]
  },
  {
   "cell_type": "code",
   "execution_count": 14,
   "metadata": {},
   "outputs": [],
   "source": [
    "#Let's use AAPL, MSI and SBUX\n",
    "def get_data():\n",
    "    #returns a list of T * 3 stock prices\n",
    "    #each row is a different stock\n",
    "    # 0 == AAPL\n",
    "    # 1 == MSI\n",
    "    # 2 == SBUX\n",
    "    df = pd.read_csv(\"C:\\\\Users\\\\mohan\\\\Documents\\\\GitHub\\\\machine_learning_examples\\\\tf2.0\\\\aapl_msi_sbux.csv\")\n",
    "    return df.values"
   ]
  },
  {
   "cell_type": "code",
   "execution_count": 18,
   "metadata": {},
   "outputs": [],
   "source": [
    "def get_scaler(env):\n",
    "    #return scikit-learn scaler object to scale the states\n",
    "    #Note you could also populate the replay buffer here.\n",
    "    \n",
    "    states = []\n",
    "    \n",
    "    for _ in range(env.n_step):\n",
    "        action = np.random.choice(env.action_space)\n",
    "        state, reward, done, info = env.step(action)\n",
    "        states.append(state)\n",
    "        if done:\n",
    "            break\n",
    "    scaler = StandardScaler()\n",
    "    scaler.fit(states)\n",
    "    return scaler"
   ]
  },
  {
   "cell_type": "code",
   "execution_count": 19,
   "metadata": {},
   "outputs": [],
   "source": [
    "def maybe_make_dir(directory):\n",
    "    '''It checks if a particular directory exists if it doesn't the it creates the directory'''\n",
    "    if not os.path.exists(directory):\n",
    "        os.makedirs(directory)"
   ]
  },
  {
   "cell_type": "code",
   "execution_count": 20,
   "metadata": {},
   "outputs": [],
   "source": [
    "class LinearModel:\n",
    "    '''A linear regression Model with multiple outputs using stochastic gradient descent'''\n",
    "    \n",
    "    def __init__(self, input_dim, n_action):\n",
    "        self.W = np.random.randn(input_data, n_action)/np.sqrt(input_dim)\n",
    "        self.b = np.zeros(n_action)\n",
    "        \n",
    "        #momentum terms\n",
    "        self.vW = 0\n",
    "        self.vb = 0\n",
    "        \n",
    "        self.losses = [] #we will populate this at each step of a gradient decsent.\n",
    "        \n",
    "    def predict(self, X):\n",
    "        #make sure X is N * D\n",
    "        assert(len(X.shape) == 2)\n",
    "        return X.dot(self.W) + self.b\n",
    "    \n",
    "    def sgd(self, X, Y, learning_rate=0.01, momentum=0.9):\n",
    "        #make sure X is N * D\n",
    "        assert(len(X.shape)==2)\n",
    "        \n",
    "        #Here the loss values are two dimensinal, normally we would divide by N only, but now we divide by N * K, N=1 in stohastic gradient descent\n",
    "        num_values = np.prod(Y.shape)\n",
    "        \n",
    "        #Do one step of gradient descent\n",
    "        #We mupltiply by 2 to get the exact gradient.\n",
    "        Yhat = self.predict(X)\n",
    "        gW = 2 * X.T.dot(Yhat - Y) / num_values\n",
    "        gb = 2 * (Yhat - Y).sum() / num_values\n",
    "        \n",
    "        #update momentum terms\n",
    "        self.vW = momentum * self.vW - learning_rate * gW\n",
    "        self.vb = momentum * self.vb - learning_rate * gb\n",
    "        \n",
    "        self.W += self.vW\n",
    "        self.b += self.vb\n",
    "        \n",
    "        mse = np.mean((Yhat - Y) ** 2)\n",
    "        self.losses.append(mse)\n",
    "        \n",
    "        def load_weights(self, filepath):\n",
    "            npz = np.load(filepath)\n",
    "            self.W = npz['W']\n",
    "            self.b = npz['b']\n",
    "            \n",
    "        def save_weights(self, filepath):\n",
    "            np.savez(filepath, W = self.W, b = self.b)\n",
    "        "
   ]
  },
  {
   "cell_type": "code",
   "execution_count": null,
   "metadata": {},
   "outputs": [],
   "source": [
    "class MultiStockEnv:\n",
    "    \"\"\"\n",
    "    A 3 stock trading Environment\n",
    "    State: vector of size 7 (n_stock * 2 + 1)\n",
    "        - # shares of stock 1 owned\n",
    "        - # shares of stock 2 owned\n",
    "        - # shares of stock 3 owned\n",
    "        - # price of stock 1(using daily close price)\n",
    "        - # price of stock 2\n",
    "        - # price of stock 3\n",
    "        - cash owned (can be used to purchase more stocks)\n",
    "    Action: categorical variable with 27(3**3) possiblites\n",
    "        -for each stock you can:\n",
    "        - 0 = sell\n",
    "        - 1 = hold\n",
    "        - 2 = buy\n",
    "    \"\"\"\n",
    "    \n",
    "    def __init__(self, data, initial_investment=20000):\n",
    "        #data\n",
    "        self.stock_price_history = data\n",
    "        self.n_step, self.n_stock = self.stock_price_history.shape\n",
    "        \n",
    "        #instance attribute\n",
    "        self.initial_investment = initial_investment"
   ]
  }
 ],
 "metadata": {
  "kernelspec": {
   "display_name": "Python 3",
   "language": "python",
   "name": "python3"
  },
  "language_info": {
   "codemirror_mode": {
    "name": "ipython",
    "version": 3
   },
   "file_extension": ".py",
   "mimetype": "text/x-python",
   "name": "python",
   "nbconvert_exporter": "python",
   "pygments_lexer": "ipython3",
   "version": "3.7.7"
  }
 },
 "nbformat": 4,
 "nbformat_minor": 4
}
