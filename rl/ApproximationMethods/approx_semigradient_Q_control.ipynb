{
 "cells": [
  {
   "cell_type": "code",
   "execution_count": 1,
   "metadata": {},
   "outputs": [],
   "source": [
    "import sys"
   ]
  },
  {
   "cell_type": "code",
   "execution_count": 2,
   "metadata": {},
   "outputs": [],
   "source": [
    "sys.path.append(\"C:\\\\Users\\\\mohan\\\\Documents\\\\GitHub\\\\Reinforcement-Learning\\\\rl\\\\DynamicProgramming\")"
   ]
  },
  {
   "cell_type": "code",
   "execution_count": 3,
   "metadata": {},
   "outputs": [],
   "source": [
    "sys.path.append(\"C:\\\\Users\\\\mohan\\\\Documents\\\\GitHub\\\\Reinforcement-Learning\\\\rl\\\\MonteCarlo\")"
   ]
  },
  {
   "cell_type": "code",
   "execution_count": 4,
   "metadata": {},
   "outputs": [],
   "source": [
    "sys.path.append(\"C:\\\\Users\\\\mohan\\\\Documents\\\\GitHub\\\\Reinforcement-Learning\\\\rl\\\\TemporalDifferenceLearning\")"
   ]
  },
  {
   "cell_type": "code",
   "execution_count": 15,
   "metadata": {},
   "outputs": [],
   "source": [
    "import numpy as np\n",
    "from matplotlib import pyplot as plt\n",
    "from grid_world import standard_grid, negative_grid\n",
    "from iterative_policy_evaluation import print_values, print_policy\n",
    "from monte_carlo_exploring_starts import max_dict\n",
    "from sarsa import random_action, ALPHA, GAMMA, ALL_POSSIBLE_ACTION"
   ]
  },
  {
   "cell_type": "code",
   "execution_count": 16,
   "metadata": {},
   "outputs": [],
   "source": [
    "SA2IDX = {}\n",
    "IDX = 0"
   ]
  },
  {
   "cell_type": "code",
   "execution_count": 17,
   "metadata": {},
   "outputs": [],
   "source": [
    "def random_action_q_learing():\n",
    "    '''We will use epsilon soft to ensure that all the states are visited. If set eps=0 some states may never be visited. '''\n",
    "    return np.random.choice(list(ALL_POSSIBLE_ACTION))"
   ]
  },
  {
   "cell_type": "code",
   "execution_count": 18,
   "metadata": {},
   "outputs": [],
   "source": [
    "class Model:\n",
    "    def __init__(self):\n",
    "        #initializing theta vector randomly.\n",
    "        self.theta = np.random.randn(25)/np.sqrt(25)\n",
    "    \n",
    "    def state_action_sa_to_feature_x(self, s, a):\n",
    "        #using (r, c, r*c, u, d, l, r, 1) is not expressive enough\n",
    "        return np.array([\n",
    "                    s[0] - 1                    if a == 'U' else 0,\n",
    "                    s[1] - 1.5                  if a == 'U' else 0,\n",
    "                    (s[0]*s[1]-3)/3             if a == 'U' else 0,\n",
    "                    (s[0]*s[0]-2)/2             if a == 'U' else 0,\n",
    "                    (s[1]*s[1]-4.5)/4.5         if a == 'U' else 0,\n",
    "                    1                           if a == 'U' else 0,\n",
    "                    s[0] - 1                    if a == 'D' else 0,\n",
    "                    s[1] - 1.5                  if a == 'D' else 0,\n",
    "                    (s[0]*s[1]-3)/3             if a == 'D' else 0,\n",
    "                    (s[0]*s[0]-2)/2             if a == 'D' else 0,\n",
    "                    (s[1]*s[1]-4.5)/4.5         if a == 'D' else 0,\n",
    "                    1                           if a == 'D' else 0,\n",
    "                    s[0] - 1                    if a == 'L' else 0,\n",
    "                    s[1] - 1.5                  if a == 'L' else 0,\n",
    "                    (s[0]*s[1]-3)/3             if a == 'L' else 0,\n",
    "                    (s[0]*s[0]-2)/2             if a == 'L' else 0,\n",
    "                    (s[1]*s[1]-4.5)/4.5         if a == 'L' else 0,\n",
    "                    1                           if a == 'L' else 0,\n",
    "                    s[0] - 1                    if a == 'R' else 0,\n",
    "                    s[1] - 1.5                  if a == 'R' else 0,\n",
    "                    (s[0]*s[1]-3)/3             if a == 'R' else 0,\n",
    "                    (s[0]*s[0]-2)/2             if a == 'R' else 0,\n",
    "                    (s[1]*s[1]-4.5)/4.5         if a == 'R' else 0,\n",
    "                    1                           if a == 'R' else 0,\n",
    "                    1])\n",
    "    \n",
    "        #if we use one hot encoding for every state and action (s, a) pair.\n",
    "        #In reality we don't want to do this becuase we have just any parameter as before.\n",
    "        #x = np.zeros(len(self.theta))\n",
    "        #idx = SA2IDX[s][a]\n",
    "        #x[idx] = 1\n",
    "        #return x\n",
    "    \n",
    "    def predict(self, s, a):\n",
    "        #Returns the predicted value of state given a state\n",
    "        x = self.state_action_sa_to_feature_x(s, a)\n",
    "        return self.theta.dot(x)\n",
    "    \n",
    "    def grad(self, s, a):\n",
    "        #This function is not needed\n",
    "        return self.state_action_sa_to_feature_x(s, a)\n",
    "    \n",
    "def getQs(model, s):\n",
    "    #We need Q(s, a) to choose an action\n",
    "    #i.e a = argmax[a]{Q(s, a)}\n",
    "    Qs = {}\n",
    "    for a in ALL_POSSIBLE_ACTION:\n",
    "        q_sa = model.predict(s, a)\n",
    "        Qs[a] = q_sa\n",
    "    return Qs"
   ]
  },
  {
   "cell_type": "code",
   "execution_count": 19,
   "metadata": {},
   "outputs": [],
   "source": [
    "def main():\n",
    "    #using the standard grid will result in suboptimal policies\n",
    "    grid = negative_grid(step_cost=-0.1)\n",
    "    \n",
    "    #print rewards\n",
    "    print (\"rewards\")\n",
    "    print_values(grid.rewards, grid)\n",
    "    \n",
    "    global IDX\n",
    "    #No policy initialization, we will derive our policy from the most recent Q.\n",
    "    states = grid.all_states()\n",
    "    for s in states:\n",
    "        SA2IDX[s] = {}\n",
    "        for a in ALL_POSSIBLE_ACTION:\n",
    "            SA2IDX[s][a] = IDX\n",
    "            IDX += 1 \n",
    "            \n",
    "    #Initialize model.\n",
    "    model = Model()\n",
    "    \n",
    "    #Repeat untill convergence\n",
    "    deltas = []\n",
    "    t1 = 1.0\n",
    "    t2 = 1.0\n",
    "    for it in range(20000):\n",
    "        if it % 100 == 0:\n",
    "            t1 += 0.001\n",
    "            t2 += 0.01\n",
    "        if it % 1000 == 0:\n",
    "            print(\"it: \", it)\n",
    "        alpha = ALPHA/t2\n",
    "        \n",
    "        #instead of genearating an episode, we will play an episode within this loop.\n",
    "        s = (2, 0) #start_state\n",
    "        grid.set_state(s)\n",
    "        \n",
    "        #get Q(s) so we can choose the first action.\n",
    "        Qs = getQs(model, s)\n",
    "        \n",
    "        #the first(s, r) tuple is state we start in and 0(reward), since we get a reward simply starting the game.\n",
    "        #the last(s, r) tuple is terminal state, so the value function is zero, so no need to update.\n",
    "        \n",
    "        a = max_dict(Qs)[0]\n",
    "        a = random_action(a, eps=0.5/t1)\n",
    "        biggest_change = 0\n",
    "        while not grid.game_over():\n",
    "            r = grid.move(a)\n",
    "            s2 = grid.current_state()\n",
    "            \n",
    "            #we need next action also because Q(s, a) depends on Q(s', a')\n",
    "            #if s2 is terminal we won't be able to take any action so we count only reward.\n",
    "            \n",
    "            old_theta = model.theta.copy()\n",
    "            if grid.is_terminal(s2):\n",
    "                model.theta += alpha*(r - model.predict(s, a))*model.grad(s, a)\n",
    "            else:\n",
    "                Qs2 = getQs(model, s2)\n",
    "                a2 = max_dict(Qs2)[0]\n",
    "                a2 = random_action(a2, eps=0.5/t1)\n",
    "                \n",
    "                model.theta += alpha * (r + GAMMA * (model.predict(s2, a2) - model.predict(s, a))) * model.grad(s, a)\n",
    "                \n",
    "                s = s2\n",
    "                a = random_action_q_learing()\n",
    "            biggest_change = max(biggest_change, np.abs(old_theta - model.theta).sum())\n",
    "        deltas.append(biggest_change)\n",
    "    plt.plot(deltas)\n",
    "    plt.show()\n",
    "    \n",
    "     \n",
    "    #Determine the policy Q* from V*\n",
    "    policy = {}\n",
    "    Q = {}\n",
    "    V = {}\n",
    "    for s in grid.actions.keys():\n",
    "        Qs = getQs(model, s)\n",
    "        Q[s] = Qs\n",
    "        a, max_q = max_dict(Q[s])\n",
    "        policy[s] = a\n",
    "        V[s] = max_q\n",
    "        \n",
    "    print(\"Values: \")\n",
    "    print_values(V, grid)\n",
    "\n",
    "    print(\"Policy: \")\n",
    "    print_policy(policy, grid)"
   ]
  },
  {
   "cell_type": "code",
   "execution_count": 20,
   "metadata": {},
   "outputs": [
    {
     "name": "stdout",
     "output_type": "stream",
     "text": [
      "rewards\n",
      "--------------------\n",
      " -0.1 -0.1 -0.1  1\n",
      "--------------------\n",
      " -0.1  0 -0.1 -1\n",
      "--------------------\n",
      " -0.1 -0.1 -0.1 -0.1\n",
      "it:  0\n",
      "it:  1000\n",
      "it:  2000\n",
      "it:  3000\n",
      "it:  4000\n",
      "it:  5000\n",
      "it:  6000\n",
      "it:  7000\n",
      "it:  8000\n",
      "it:  9000\n",
      "it:  10000\n",
      "it:  11000\n",
      "it:  12000\n",
      "it:  13000\n",
      "it:  14000\n",
      "it:  15000\n",
      "it:  16000\n",
      "it:  17000\n",
      "it:  18000\n",
      "it:  19000\n"
     ]
    },
    {
     "data": {
      "image/png": "[encoded data removed]",
      "text/plain": [
       "<Figure size 432x288 with 1 Axes>"
      ]
     },
     "metadata": {
      "needs_background": "light"
     },
     "output_type": "display_data"
    },
    {
     "name": "stdout",
     "output_type": "stream",
     "text": [
      "Values: \n",
      "--------------------\n",
      "  0.05  0.2  0.5  0\n",
      "--------------------\n",
      " -0.12  0 -0.05  0\n",
      "--------------------\n",
      " -0.46 -0.53 -0.67 -0.61\n",
      "Policy: \n",
      "--------------------\n",
      " R | R | R |   |\n",
      "--------------------\n",
      " U |   | U |   |\n",
      "--------------------\n",
      " U | U | L | L |\n"
     ]
    }
   ],
   "source": [
    "if __name__ == \"__main__\":\n",
    "    main()"
   ]
  },
  {
   "cell_type": "code",
   "execution_count": null,
   "metadata": {},
   "outputs": [],
   "source": []
  },
  {
   "cell_type": "code",
   "execution_count": null,
   "metadata": {},
   "outputs": [],
   "source": []
  }
 ],
 "metadata": {
  "kernelspec": {
   "display_name": "Python 3",
   "language": "python",
   "name": "python3"
  },
  "language_info": {
   "codemirror_mode": {
    "name": "ipython",
    "version": 3
   },
   "file_extension": ".py",
   "mimetype": "text/x-python",
   "name": "python",
   "nbconvert_exporter": "python",
   "pygments_lexer": "ipython3",
   "version": "3.6.10"
  }
 },
 "nbformat": 4,
 "nbformat_minor": 4
}
