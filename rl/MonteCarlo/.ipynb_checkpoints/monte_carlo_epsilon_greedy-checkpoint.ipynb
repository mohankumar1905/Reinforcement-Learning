{
 "cells": [
  {
   "cell_type": "code",
   "execution_count": 1,
   "metadata": {},
   "outputs": [
    {
     "data": {
      "text/plain": [
       "'Included Control problem- This scripts implement Monte carlo exploring starts method for finding optimal policy.'"
      ]
     },
     "execution_count": 1,
     "metadata": {},
     "output_type": "execute_result"
    }
   ],
   "source": [
    "'''Included Control problem- This scripts implement Monte carlo exploring starts method for finding optimal policy.'''"
   ]
  },
  {
   "cell_type": "code",
   "execution_count": 2,
   "metadata": {},
   "outputs": [],
   "source": [
    "import sys\n",
    "sys.path.append(\"C:\\\\Users\\\\mohan\\\\Documents\\\\GitHub\\\\Reinforcement-Learning\\\\rl\\\\DynamicProgramming\")"
   ]
  },
  {
   "cell_type": "code",
   "execution_count": 3,
   "metadata": {},
   "outputs": [],
   "source": [
    "import numpy as np\n",
    "from matplotlib import pyplot as plt\n",
    "from grid_world import standard_grid, negative_grid\n",
    "from iterative_policy_evaluation import print_values, print_policy"
   ]
  },
  {
   "cell_type": "code",
   "execution_count": 4,
   "metadata": {},
   "outputs": [],
   "source": [
    "GAMMA = 0.9\n",
    "ALL_POSSIBLE_ACTION = {'U', 'D', 'L', 'R'}"
   ]
  },
  {
   "cell_type": "code",
   "execution_count": 5,
   "metadata": {},
   "outputs": [],
   "source": [
    "def random_action(a, eps=0.1):\n",
    "    '''Choose given \"a\" with probablity 0.5 and some other a'!=a with probablity 0.5/3 '''\n",
    "    p = np.random.random()\n",
    "    if p < (1 - eps):\n",
    "        return a\n",
    "    else:\n",
    "        return np.random.choice(list(ALL_POSSIBLE_ACTION))"
   ]
  },
  {
   "cell_type": "code",
   "execution_count": 6,
   "metadata": {},
   "outputs": [],
   "source": [
    "def play_game(grid, policy):\n",
    "    '''Returns a List of states and corresponding returns\n",
    "    Reset the Game to start at a random position, we need to do this beacuse given our current determinisitc policy, \n",
    "    we would never end up at certain states, but we still want to measure it.(exploring starts method.)'''\n",
    "\n",
    "    s = (2, 0)\n",
    "    grid.set_state(s)\n",
    "    a = random_action(policy.get(s))\n",
    "    \n",
    "    states_action_rewards = [(s, a, 0)] #for a starting state we will give a reward of 0.\n",
    "    stop_itertion = False\n",
    "    #seen_states = set()\n",
    "    #seen_states.add(grid.current_state())\n",
    "    #num_steps = 0\n",
    "    while not stop_itertion:\n",
    "        #num_steps+=1\n",
    "        r = grid.move(a)\n",
    "        s = grid.current_state()\n",
    "        #if s in seen_states:\n",
    "        #    rewards= -2/num_steps\n",
    "        #    states_action_rewards.append((s, None, -100))\n",
    "        #    stop_itertion = True\n",
    "        if grid.game_over():\n",
    "            states_action_rewards.append((s, None, r))\n",
    "            stop_itertion = True\n",
    "        else:\n",
    "            a = policy.get(s)        \n",
    "            a = random_action(a)\n",
    "            states_action_rewards.append((s, a, r))\n",
    "        #seen_states.add(s)\n",
    "\n",
    "    #Calculate the returns by working backwards from the terminal state.\n",
    "    G = 0 #the value of a terminal state is zero by definition\n",
    "    states_actions_returns = []\n",
    "    first = True #True because we are calculating first visit monte carlo\n",
    "\n",
    "    for s, a, r in reversed(states_action_rewards):\n",
    "        if first:\n",
    "            first = False\n",
    "        else:\n",
    "            states_actions_returns.append((s, a, G))\n",
    "        G = r + (GAMMA * G)\n",
    "    states_actions_returns.reverse()\n",
    "    return states_actions_returns"
   ]
  },
  {
   "cell_type": "code",
   "execution_count": 7,
   "metadata": {},
   "outputs": [],
   "source": [
    "def max_dict(d):\n",
    "    '''Returns the argmax(key) and max(value) from a dictionary'''\n",
    "    max_key = None\n",
    "    max_val = float('-inf')\n",
    "    for k, v in d.items():\n",
    "        if v > max_val:\n",
    "            max_val = v\n",
    "            max_key = k\n",
    "    return max_key, max_val"
   ]
  },
  {
   "cell_type": "code",
   "execution_count": 8,
   "metadata": {},
   "outputs": [],
   "source": [
    "def main():\n",
    "    #using the standard grid again (0 for every step) so that we can compare to iterative policy evaluation.\n",
    "    grid = negative_grid()\n",
    "    \n",
    "    #print rewards\n",
    "    print_values(grid.rewards, grid)\n",
    "    \n",
    "    #Policy - For a given state what is the action we would take.\n",
    "    #set the initial policy to random actions\n",
    "    policy = {}\n",
    "    for s in grid.actions.keys():\n",
    "        policy[s] = np.random.choice(list(ALL_POSSIBLE_ACTION))\n",
    "\n",
    "    #Initialize V(s) and returns \n",
    "    Q = {}\n",
    "    returns = {} #dictionary of a state -> list of returns we have recieved.\n",
    "    states = grid.all_states()\n",
    "    for s in states:\n",
    "        if s in grid.actions:\n",
    "            Q[s] = {}\n",
    "            for a in ALL_POSSIBLE_ACTION:\n",
    "                Q[s][a] = 0\n",
    "                returns[(s, a)] = []\n",
    "        else:\n",
    "            pass #terminal state or state we can't otherwise get to.\n",
    "\n",
    "    deltas = []\n",
    "    for t in range(5000):\n",
    "        if t % 100 == 0:\n",
    "            print(t)\n",
    "        \n",
    "        biggest_change = 0\n",
    "        states_actions_returns = play_game(grid, policy)\n",
    "        seen_state_action_pairs = set()\n",
    "        for s, a, G in states_actions_returns:\n",
    "            #We are calculating using first visit monte carlo method. - so we check whether we have seen the state action already \n",
    "            sa = (s, a)\n",
    "            if sa not in seen_state_action_pairs:\n",
    "                old_q = Q[s][a]\n",
    "                returns[sa].append(G)\n",
    "                Q[s][a] = np.mean(returns[sa])\n",
    "                biggest_change = max(biggest_change, np.abs(old_q - Q[s][a]))\n",
    "                seen_state_action_pairs.add(sa)\n",
    "        deltas.append(biggest_change)\n",
    "    \n",
    "        #update policy\n",
    "        for s in policy.keys():\n",
    "            policy[s] = max_dict(Q[s])[0]\n",
    "        \n",
    "    plt.plot(deltas)\n",
    "    plt.show()\n",
    "    \n",
    "    print(\"final policy: \")\n",
    "    print_policy(policy, grid)\n",
    "    \n",
    "    #find V  \n",
    "    V = {}\n",
    "    for s, Qs in Q.items():\n",
    "        V[s] = max_dict(Q[s])[1]\n",
    "        \n",
    "    print(\"values: \")\n",
    "    print_values(V, grid)"
   ]
  },
  {
   "cell_type": "code",
   "execution_count": 9,
   "metadata": {},
   "outputs": [
    {
     "name": "stdout",
     "output_type": "stream",
     "text": [
      "--------------------\n",
      " -0.1 -0.1 -0.1  1\n",
      "--------------------\n",
      " -0.1  0 -0.1 -1\n",
      "--------------------\n",
      " -0.1 -0.1 -0.1 -0.1\n",
      "0\n",
      "100\n",
      "200\n",
      "300\n",
      "400\n",
      "500\n",
      "600\n",
      "700\n",
      "800\n",
      "900\n",
      "1000\n",
      "1100\n",
      "1200\n",
      "1300\n",
      "1400\n",
      "1500\n",
      "1600\n",
      "1700\n",
      "1800\n",
      "1900\n",
      "2000\n",
      "2100\n",
      "2200\n",
      "2300\n",
      "2400\n",
      "2500\n",
      "2600\n",
      "2700\n",
      "2800\n",
      "2900\n",
      "3000\n",
      "3100\n",
      "3200\n",
      "3300\n",
      "3400\n",
      "3500\n",
      "3600\n",
      "3700\n",
      "3800\n",
      "3900\n",
      "4000\n",
      "4100\n",
      "4200\n",
      "4300\n",
      "4400\n",
      "4500\n",
      "4600\n",
      "4700\n",
      "4800\n",
      "4900\n"
     ]
    },
    {
     "data": {
      "image/png": "[encoded data removed]",
      "text/plain": [
       "<Figure size 432x288 with 1 Axes>"
      ]
     },
     "metadata": {
      "needs_background": "light"
     },
     "output_type": "display_data"
    },
    {
     "name": "stdout",
     "output_type": "stream",
     "text": [
      "final policy: \n",
      "--------------------\n",
      " R | R | R |   |\n",
      "--------------------\n",
      " U |   | U |   |\n",
      "--------------------\n",
      " U | R | U | L |\n",
      "values: \n",
      "--------------------\n",
      "  0.58  0.77  1.0  0\n",
      "--------------------\n",
      "  0.41  0  0.79  0\n",
      "--------------------\n",
      "  0.25  0.38  0.58  0.14\n"
     ]
    }
   ],
   "source": [
    "if __name__ == \"__main__\":\n",
    "    main()"
   ]
  },
  {
   "cell_type": "code",
   "execution_count": null,
   "metadata": {},
   "outputs": [],
   "source": []
  },
  {
   "cell_type": "code",
   "execution_count": null,
   "metadata": {},
   "outputs": [],
   "source": []
  }
 ],
 "metadata": {
  "kernelspec": {
   "display_name": "Python 3",
   "language": "python",
   "name": "python3"
  },
  "language_info": {
   "codemirror_mode": {
    "name": "ipython",
    "version": 3
   },
   "file_extension": ".py",
   "mimetype": "text/x-python",
   "name": "python",
   "nbconvert_exporter": "python",
   "pygments_lexer": "ipython3",
   "version": "3.6.10"
  }
 },
 "nbformat": 4,
 "nbformat_minor": 4
}
